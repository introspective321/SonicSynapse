{
 "cells": [
  {
   "cell_type": "markdown",
   "metadata": {},
   "source": [
    "Key points from preprocess.ipynb:\n",
    "\n",
    "1. **Dataset Loading**: The dataset `Music Info.csv` is loaded into a pandas DataFrame (`df_music`).\n",
    "\n",
    "2. **Exploratory Data Analysis (EDA)**:\n",
    "   - Displayed the first few rows and dataset structure.\n",
    "   - Calculated summary statistics for numeric columns.\n",
    "   - Identified unique values in `genre` and `tags`.\n",
    "   - Checked for missing values in all columns.\n",
    "\n",
    "3. **Handling Missing Values**:\n",
    "   - Replaced missing values in `genre` with `\"unknown\"`.\n",
    "   - Replaced missing values in `tags` with `\"no_tags\"`.\n",
    "\n",
    "4. **Removing Duplicates**: Removed duplicate rows based on the `track_id` column.\n",
    "\n",
    "5. **Feature Selection**:\n",
    "   - Selected numeric features: `danceability`, `energy`, `loudness`, `speechiness`, `acousticness`, `instrumentalness`, `liveness`, `valence`, `tempo`, `duration_ms`.\n",
    "   - Selected categorical features: `genre`, `tags`, `key`, `mode`, and `year`.\n",
    "\n",
    "6. **Scaling**: Scaled numeric columns (`tempo`, `loudness`, `duration_ms`, `year`) using `MinMaxScaler`.\n",
    "\n",
    "7. **One-Hot Encoding**: Applied one-hot encoding to the `genre` column.\n",
    "\n",
    "8. **Processing Tags**: Converted the `tags` column (comma-separated strings) into lists of tags.\n",
    "\n",
    "9. **Saving Processed Data**: Saved the processed DataFrame to `Processed_Music_Info.csv`.\n",
    "\n",
    "10. **Final Checks**:\n",
    "    - Verified the shape and data types of the processed dataset.\n",
    "    - Ensured numeric columns were scaled and categorical columns were encoded."
   ]
  },
  {
   "cell_type": "code",
   "execution_count": 1,
   "metadata": {},
   "outputs": [
    {
     "name": "stdout",
     "output_type": "stream",
     "text": [
      "             track_id             name           artist  \\\n",
      "0  TRIOREW128F424EAF0   Mr. Brightside      The Killers   \n",
      "1  TRRIVDJ128F429B0E8       Wonderwall            Oasis   \n",
      "2  TROUVHL128F426C441  Come as You Are          Nirvana   \n",
      "3  TRUEIND128F93038C4      Take Me Out  Franz Ferdinand   \n",
      "4  TRLNZBD128F935E4D8            Creep        Radiohead   \n",
      "\n",
      "                                 spotify_preview_url              spotify_id  \\\n",
      "0  https://p.scdn.co/mp3-preview/4d26180e6961fd46...  09ZQ5TmUG8TSL56n0knqrj   \n",
      "1  https://p.scdn.co/mp3-preview/d012e536916c927b...  06UfBBDISthj1ZJAtX4xjj   \n",
      "2  https://p.scdn.co/mp3-preview/a1c11bb1cb231031...  0keNu0t0tqsWtExGM3nT1D   \n",
      "3  https://p.scdn.co/mp3-preview/399c401370438be4...  0ancVQ9wEcHVd0RrGICTE4   \n",
      "4  https://p.scdn.co/mp3-preview/e7eb60e9466bc3a2...  01QoK9DA7VTeTSE3MNzp4I   \n",
      "\n",
      "                                                tags genre  year  duration_ms  \\\n",
      "0  rock, alternative, indie, alternative_rock, in...   NaN  2004       222200   \n",
      "1  rock, alternative, indie, pop, alternative_roc...   NaN  2006       258613   \n",
      "2   rock, alternative, alternative_rock, 90s, grunge   RnB  1991       218920   \n",
      "3  rock, alternative, indie, alternative_rock, in...   NaN  2004       237026   \n",
      "4  rock, alternative, indie, alternative_rock, in...   RnB  2008       238640   \n",
      "\n",
      "   danceability  ...  key  loudness  mode  speechiness  acousticness  \\\n",
      "0         0.355  ...    1    -4.360     1       0.0746      0.001190   \n",
      "1         0.409  ...    2    -4.373     1       0.0336      0.000807   \n",
      "2         0.508  ...    4    -5.783     0       0.0400      0.000175   \n",
      "3         0.279  ...    9    -8.851     1       0.0371      0.000389   \n",
      "4         0.515  ...    7    -9.935     1       0.0369      0.010200   \n",
      "\n",
      "   instrumentalness  liveness  valence    tempo  time_signature  \n",
      "0          0.000000    0.0971    0.240  148.114               4  \n",
      "1          0.000000    0.2070    0.651  174.426               4  \n",
      "2          0.000459    0.0878    0.543  120.012               4  \n",
      "3          0.000655    0.1330    0.490  104.560               4  \n",
      "4          0.000141    0.1290    0.104   91.841               4  \n",
      "\n",
      "[5 rows x 21 columns]\n",
      "<class 'pandas.core.frame.DataFrame'>\n",
      "RangeIndex: 50683 entries, 0 to 50682\n",
      "Data columns (total 21 columns):\n",
      " #   Column               Non-Null Count  Dtype  \n",
      "---  ------               --------------  -----  \n",
      " 0   track_id             50683 non-null  object \n",
      " 1   name                 50683 non-null  object \n",
      " 2   artist               50683 non-null  object \n",
      " 3   spotify_preview_url  50683 non-null  object \n",
      " 4   spotify_id           50683 non-null  object \n",
      " 5   tags                 49556 non-null  object \n",
      " 6   genre                22348 non-null  object \n",
      " 7   year                 50683 non-null  int64  \n",
      " 8   duration_ms          50683 non-null  int64  \n",
      " 9   danceability         50683 non-null  float64\n",
      " 10  energy               50683 non-null  float64\n",
      " 11  key                  50683 non-null  int64  \n",
      " 12  loudness             50683 non-null  float64\n",
      " 13  mode                 50683 non-null  int64  \n",
      " 14  speechiness          50683 non-null  float64\n",
      " 15  acousticness         50683 non-null  float64\n",
      " 16  instrumentalness     50683 non-null  float64\n",
      " 17  liveness             50683 non-null  float64\n",
      " 18  valence              50683 non-null  float64\n",
      " 19  tempo                50683 non-null  float64\n",
      " 20  time_signature       50683 non-null  int64  \n",
      "dtypes: float64(9), int64(5), object(7)\n",
      "memory usage: 8.1+ MB\n",
      "None\n"
     ]
    }
   ],
   "source": [
    "import pandas as pd\n",
    "\n",
    "df_music = pd.read_csv('data/Music Info.csv')\n",
    "\n",
    "print(df_music.head())\n",
    "print(df_music.info())"
   ]
  },
  {
   "cell_type": "code",
   "execution_count": 2,
   "metadata": {},
   "outputs": [
    {
     "name": "stdout",
     "output_type": "stream",
     "text": [
      "               year   duration_ms  danceability        energy           key  \\\n",
      "count  50683.000000  5.068300e+04  50683.000000  50683.000000  50683.000000   \n",
      "mean    2004.017323  2.511551e+05      0.493537      0.686486      5.312748   \n",
      "std        8.860172  1.075860e+05      0.178838      0.251808      3.568078   \n",
      "min     1900.000000  1.439000e+03      0.000000      0.000000      0.000000   \n",
      "25%     2001.000000  1.927330e+05      0.364000      0.514000      2.000000   \n",
      "50%     2006.000000  2.349330e+05      0.497000      0.744000      5.000000   \n",
      "75%     2009.000000  2.881930e+05      0.621000      0.905000      9.000000   \n",
      "max     2022.000000  3.816373e+06      0.986000      1.000000     11.000000   \n",
      "\n",
      "           loudness          mode   speechiness  acousticness  \\\n",
      "count  50683.000000  50683.000000  50683.000000  50683.000000   \n",
      "mean      -8.291204      0.631060      0.076023      0.213808   \n",
      "std        4.548365      0.482522      0.076007      0.302848   \n",
      "min      -60.000000      0.000000      0.000000      0.000000   \n",
      "25%      -10.375000      0.000000      0.035200      0.001400   \n",
      "50%       -7.200000      1.000000      0.048200      0.039900   \n",
      "75%       -5.089000      1.000000      0.083500      0.340000   \n",
      "max        3.642000      1.000000      0.954000      0.996000   \n",
      "\n",
      "       instrumentalness      liveness       valence         tempo  \\\n",
      "count      50683.000000  50683.000000  50683.000000  50683.000000   \n",
      "mean           0.225283      0.215425      0.433134    123.507682   \n",
      "std            0.337049      0.184697      0.258779     29.621125   \n",
      "min            0.000000      0.000000      0.000000      0.000000   \n",
      "25%            0.000018      0.098400      0.214000    100.683000   \n",
      "50%            0.005630      0.138000      0.405000    121.989000   \n",
      "75%            0.441000      0.289000      0.634000    141.639000   \n",
      "max            0.999000      0.999000      0.993000    238.895000   \n",
      "\n",
      "       time_signature  \n",
      "count    50683.000000  \n",
      "mean         3.898151  \n",
      "std          0.419670  \n",
      "min          0.000000  \n",
      "25%          4.000000  \n",
      "50%          4.000000  \n",
      "75%          4.000000  \n",
      "max          5.000000  \n",
      "Unique genres: 15\n",
      "Unique tags: 20057\n"
     ]
    }
   ],
   "source": [
    "# Summary statistics\n",
    "print(df_music.describe(include=[float, int]))\n",
    "\n",
    "# Unique values in categorical columns\n",
    "print(\"Unique genres:\", df_music[\"genre\"].nunique(dropna=True))\n",
    "print(\"Unique tags:\", df_music[\"tags\"].nunique(dropna=True))"
   ]
  },
  {
   "cell_type": "code",
   "execution_count": 3,
   "metadata": {},
   "outputs": [
    {
     "name": "stdout",
     "output_type": "stream",
     "text": [
      "Missing values per column:\n",
      " track_id                   0\n",
      "name                       0\n",
      "artist                     0\n",
      "spotify_preview_url        0\n",
      "spotify_id                 0\n",
      "tags                    1127\n",
      "genre                  28335\n",
      "year                       0\n",
      "duration_ms                0\n",
      "danceability               0\n",
      "energy                     0\n",
      "key                        0\n",
      "loudness                   0\n",
      "mode                       0\n",
      "speechiness                0\n",
      "acousticness               0\n",
      "instrumentalness           0\n",
      "liveness                   0\n",
      "valence                    0\n",
      "tempo                      0\n",
      "time_signature             0\n",
      "dtype: int64\n"
     ]
    }
   ],
   "source": [
    "missing_counts = df_music.isnull().sum()\n",
    "print(\"Missing values per column:\\n\", missing_counts)"
   ]
  },
  {
   "cell_type": "code",
   "execution_count": 4,
   "metadata": {},
   "outputs": [
    {
     "name": "stderr",
     "output_type": "stream",
     "text": [
      "/tmp/ipykernel_19949/4167446457.py:1: FutureWarning: A value is trying to be set on a copy of a DataFrame or Series through chained assignment using an inplace method.\n",
      "The behavior will change in pandas 3.0. This inplace method will never work because the intermediate object on which we are setting values always behaves as a copy.\n",
      "\n",
      "For example, when doing 'df[col].method(value, inplace=True)', try using 'df.method({col: value}, inplace=True)' or df[col] = df[col].method(value) instead, to perform the operation inplace on the original object.\n",
      "\n",
      "\n",
      "  df_music[\"genre\"].fillna(\"unknown\", inplace=True)\n",
      "/tmp/ipykernel_19949/4167446457.py:2: FutureWarning: A value is trying to be set on a copy of a DataFrame or Series through chained assignment using an inplace method.\n",
      "The behavior will change in pandas 3.0. This inplace method will never work because the intermediate object on which we are setting values always behaves as a copy.\n",
      "\n",
      "For example, when doing 'df[col].method(value, inplace=True)', try using 'df.method({col: value}, inplace=True)' or df[col] = df[col].method(value) instead, to perform the operation inplace on the original object.\n",
      "\n",
      "\n",
      "  df_music[\"tags\"].fillna(\"no_tags\", inplace=True)\n"
     ]
    }
   ],
   "source": [
    "df_music[\"genre\"].fillna(\"unknown\", inplace=True)\n",
    "df_music[\"tags\"].fillna(\"no_tags\", inplace=True)"
   ]
  },
  {
   "cell_type": "code",
   "execution_count": 5,
   "metadata": {},
   "outputs": [],
   "source": [
    "# Remove duplicates based on 'track id'\n",
    "duplicates = df_music.duplicated(subset=[\"track_id\"])\n",
    "df_music = df_music[~duplicates]"
   ]
  },
  {
   "cell_type": "markdown",
   "metadata": {},
   "source": [
    "This ensures that every track is unique wrt its ID"
   ]
  },
  {
   "cell_type": "markdown",
   "metadata": {},
   "source": [
    "tags and genre have missing values"
   ]
  },
  {
   "cell_type": "markdown",
   "metadata": {},
   "source": [
    "## Selecting Relevant Columns"
   ]
  },
  {
   "cell_type": "markdown",
   "metadata": {},
   "source": [
    "Numeric features (useful ones): danceability, energy, loudness, speechiness, acousticness, instrumentalness, liveness, valence, tempo, duration_ms\n",
    "Categorical Features: genre, tags, key, mode, and (maybe) year"
   ]
  },
  {
   "cell_type": "code",
   "execution_count": 14,
   "metadata": {},
   "outputs": [],
   "source": [
    "model_columns = [\n",
    "    \"danceability\", \"energy\", \"loudness\",\n",
    "    \"speechiness\", \"acousticness\", \"instrumentalness\",\n",
    "    \"liveness\", \"valence\", \"tempo\",\n",
    "    \"duration_ms\", \"genre\", \"tags\", \"key\", \"mode\", \"year\"\n",
    "]\n",
    "\n",
    "df_model = df_music[model_columns].copy()"
   ]
  },
  {
   "cell_type": "markdown",
   "metadata": {},
   "source": [
    "## Scaling"
   ]
  },
  {
   "cell_type": "code",
   "execution_count": 15,
   "metadata": {},
   "outputs": [],
   "source": [
    "from sklearn.preprocessing import MinMaxScaler\n",
    "\n",
    "scaler = MinMaxScaler()\n",
    "numeric_cols = [\"tempo\", \"loudness\", \"duration_ms\", \"year\"]\n",
    "\n",
    "df_model[numeric_cols] = scaler.fit_transform(df_model[numeric_cols])"
   ]
  },
  {
   "cell_type": "markdown",
   "metadata": {},
   "source": [
    "## Since we have 15 unique genres in this dataset, one-hot encoding can be done"
   ]
  },
  {
   "cell_type": "code",
   "execution_count": 16,
   "metadata": {},
   "outputs": [
    {
     "name": "stdout",
     "output_type": "stream",
     "text": [
      "   danceability  energy  loudness  speechiness  acousticness  \\\n",
      "0         0.355   0.918  0.874265       0.0746      0.001190   \n",
      "1         0.409   0.892  0.874061       0.0336      0.000807   \n",
      "2         0.508   0.826  0.851906       0.0400      0.000175   \n",
      "3         0.279   0.664  0.803699       0.0371      0.000389   \n",
      "4         0.515   0.430  0.786666       0.0369      0.010200   \n",
      "\n",
      "   instrumentalness  liveness  valence     tempo  duration_ms  ...  \\\n",
      "0          0.000000    0.0971    0.240  0.619996     0.057868  ...   \n",
      "1          0.000000    0.2070    0.651  0.730137     0.067412  ...   \n",
      "2          0.000459    0.0878    0.543  0.502363     0.057008  ...   \n",
      "3          0.000655    0.1330    0.490  0.437682     0.061754  ...   \n",
      "4          0.000141    0.1290    0.104  0.384441     0.062177  ...   \n",
      "\n",
      "  genre_Metal  genre_New Age  genre_Pop  genre_Punk  genre_Rap  genre_Reggae  \\\n",
      "0       False          False      False       False      False         False   \n",
      "1       False          False      False       False      False         False   \n",
      "2       False          False      False       False      False         False   \n",
      "3       False          False      False       False      False         False   \n",
      "4       False          False      False       False      False         False   \n",
      "\n",
      "   genre_RnB  genre_Rock  genre_World  genre_unknown  \n",
      "0      False       False        False           True  \n",
      "1      False       False        False           True  \n",
      "2       True       False        False          False  \n",
      "3      False       False        False           True  \n",
      "4       True       False        False          False  \n",
      "\n",
      "[5 rows x 30 columns]\n"
     ]
    }
   ],
   "source": [
    "df_model = pd.get_dummies(df_model, columns=[\"genre\"], prefix=\"genre\")\n",
    "print(df_model.head())"
   ]
  },
  {
   "cell_type": "markdown",
   "metadata": {},
   "source": [
    "## Now since the tags are comma-separated string, we convert them to a list of tags"
   ]
  },
  {
   "cell_type": "code",
   "execution_count": 17,
   "metadata": {},
   "outputs": [],
   "source": [
    "df_model[\"tags\"] = df_model[\"tags\"].apply(lambda x: x.split(\", \") if x!=\"np_tags\" else [])"
   ]
  },
  {
   "cell_type": "code",
   "execution_count": 19,
   "metadata": {},
   "outputs": [
    {
     "name": "stdout",
     "output_type": "stream",
     "text": [
      "0    [rock, alternative, indie, alternative_rock, i...\n",
      "1    [rock, alternative, indie, pop, alternative_ro...\n",
      "2    [rock, alternative, alternative_rock, 90s, gru...\n",
      "3    [rock, alternative, indie, alternative_rock, i...\n",
      "4    [rock, alternative, indie, alternative_rock, i...\n",
      "Name: tags, dtype: object\n"
     ]
    }
   ],
   "source": [
    "print(df_model[\"tags\"].head())"
   ]
  },
  {
   "cell_type": "markdown",
   "metadata": {},
   "source": [
    "Here we will store the tags as strings and handle them later in model using a textual embedding approach"
   ]
  },
  {
   "cell_type": "code",
   "execution_count": 22,
   "metadata": {},
   "outputs": [
    {
     "name": "stdout",
     "output_type": "stream",
     "text": [
      "(50683, 30)\n",
      "danceability        float64\n",
      "energy              float64\n",
      "loudness            float64\n",
      "speechiness         float64\n",
      "acousticness        float64\n",
      "instrumentalness    float64\n",
      "liveness            float64\n",
      "valence             float64\n",
      "tempo               float64\n",
      "duration_ms         float64\n",
      "tags                 object\n",
      "key                   int64\n",
      "mode                  int64\n",
      "year                float64\n",
      "genre_Blues            bool\n",
      "genre_Country          bool\n",
      "genre_Electronic       bool\n",
      "genre_Folk             bool\n",
      "genre_Jazz             bool\n",
      "genre_Latin            bool\n",
      "genre_Metal            bool\n",
      "genre_New Age          bool\n",
      "genre_Pop              bool\n",
      "genre_Punk             bool\n",
      "genre_Rap              bool\n",
      "genre_Reggae           bool\n",
      "genre_RnB              bool\n",
      "genre_Rock             bool\n",
      "genre_World            bool\n",
      "genre_unknown          bool\n",
      "dtype: object\n"
     ]
    }
   ],
   "source": [
    "print(df_model.shape) \n",
    "\n",
    "# Make sure columns are numeric\n",
    "print(df_model.dtypes)"
   ]
  },
  {
   "cell_type": "code",
   "execution_count": 23,
   "metadata": {},
   "outputs": [],
   "source": [
    "df_model.to_csv(\"data_processed/Processed_Music_Info.csv\", index=False)"
   ]
  }
 ],
 "metadata": {
  "kernelspec": {
   "display_name": ".venv",
   "language": "python",
   "name": "python3"
  },
  "language_info": {
   "codemirror_mode": {
    "name": "ipython",
    "version": 3
   },
   "file_extension": ".py",
   "mimetype": "text/x-python",
   "name": "python",
   "nbconvert_exporter": "python",
   "pygments_lexer": "ipython3",
   "version": "3.13.2"
  }
 },
 "nbformat": 4,
 "nbformat_minor": 2
}
